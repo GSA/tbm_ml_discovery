{
 "cells": [
  {
   "cell_type": "markdown",
   "metadata": {},
   "source": [
    "# This script is trying to predict the top 28 categories is in GEAR"
   ]
  },
  {
   "cell_type": "markdown",
   "metadata": {},
   "source": [
    "Imports for libraries and data"
   ]
  },
  {
   "cell_type": "code",
   "execution_count": 15,
   "metadata": {},
   "outputs": [],
   "source": [
    "import numpy as np\n",
    "import pandas as pd\n",
    "from sklearn.feature_extraction.text import CountVectorizer\n",
    "from sklearn.feature_extraction.text import TfidfTransformer\n",
    "from sklearn.naive_bayes import MultinomialNB\n",
    "\n",
    "input_file = \"service_now_sample.csv\"\n",
    "# can do the yes to 1 in read_csv\n",
    "df = pd.read_csv(input_file, header = 0)"
   ]
  },
  {
   "cell_type": "markdown",
   "metadata": {},
   "source": [
    "Only need `short_description`, `U_Category_Match`,  `u_category_gear` to get the categories"
   ]
  },
  {
   "cell_type": "code",
   "execution_count": 16,
   "metadata": {},
   "outputs": [],
   "source": [
    "gear_df = df[['short_description', 'u_category_gear']]\n",
    "# remove nulls\n",
    "gear_df = gear_df.replace(np.nan, '', regex=True)\n",
    "\n",
    "gear_df['eoffer_emod'] = np.where(gear_df['u_category_gear']=='eOffer/eMod - Electronic Offers/Electronic Modifications', 1, 0)\n",
    "gear_df['vcss'] = np.where(gear_df['u_category_gear']=='VCSS - Vendor Customer Self Service', 1, 0)\n",
    "gear_df['any_connect_windows'] = np.where(gear_df['u_category_gear']=='Cisco AnyConnect Windows Client 3.1', 1, 0)\n",
    "gear_df['easi'] = np.where(gear_df['u_category_gear']=='EASi - Electronic Acquisition System Integration', 1, 0)\n",
    "gear_df['google_email'] = np.where(gear_df['u_category_gear']=='Google Email', 1, 0)\n",
    "gear_df['pegasys_admin'] = np.where(gear_df['u_category_gear']=='Pegasys Admin Queries', 1, 0)\n",
    "gear_df['fss_online'] = np.where(gear_df['u_category_gear']=='FSS Online - Federal Supply Service Online', 1, 0)\n",
    "gear_df['etams'] = np.where(gear_df['u_category_gear']=='ETAMS - Electronic Time and Attendance Management System', 1, 0)\n",
    "gear_df['pegasys_data'] = np.where(gear_df['u_category_gear']=='PDE - Pegasys Data Entry', 1, 0)\n",
    "gear_df['aloha'] = np.where(gear_df['u_category_gear']=='Aloha - Authorized Leave and Overtime Help Application', 1, 0)\n",
    "gear_df['fmis'] = np.where(gear_df['u_category_gear']=='FMIS - Financial Management Information System', 1, 0)\n",
    "gear_df['apm'] = np.where(gear_df['u_category_gear']=='APM - Acquisition Planning Module', 1, 0)\n",
    "gear_df['google_docs'] = np.where(gear_df['u_category_gear']=='Google Docs', 1, 0)\n",
    "gear_df['google_chrome'] = np.where(gear_df['u_category_gear']=='Google Chrome', 1, 0)\n",
    "gear_df['ears'] = np.where(gear_df['u_category_gear']=='EARS - Enterprise Access Request System', 1, 0)\n",
    "gear_df['bookit'] = np.where(gear_df['u_category_gear']=='BookIt', 1, 0)\n",
    "gear_df['rocis'] = np.where(gear_df['u_category_gear']=='ROCIS - RISC/OIRA Consolidated Information System', 1, 0)\n",
    "gear_df['eviewer'] = np.where(gear_df['u_category_gear']=='eViewer', 1, 0)\n",
    "gear_df['google_calendar'] = np.where(gear_df['u_category_gear']=='Google Calendar', 1, 0)\n",
    "gear_df['geco'] = np.where(gear_df['u_category_gear']=='GECO - GSA Enhanced Checkout', 1, 0)\n",
    "gear_df['ors'] = np.where(gear_df['u_category_gear']=='ORS - Offer Registration System', 1, 0)\n",
    "gear_df['google_sites'] = np.where(gear_df['u_category_gear']=='Google Sites', 1, 0)\n",
    "gear_df['bi'] = np.where(gear_df['u_category_gear']=='BI - Business Intelligence Framework', 1, 0)\n",
    "gear_df['google_hangout'] = np.where(gear_df['u_category_gear']=='Google Hangout', 1, 0)\n",
    "gear_df['google_groups'] = np.where(gear_df['u_category_gear']=='Google Groups', 1, 0)\n",
    "gear_df['vitap'] = np.where(gear_df['u_category_gear']=='VITAP - Visual Invoice Tracking and Payment (FoxPro)', 1, 0)\n",
    "gear_df['ocms'] = np.where(gear_df['u_category_gear']=='OCMS - On-Line Contract Management System', 1, 0)\n",
    "gear_df['pegasys_vrm'] = np.where(gear_df['u_category_gear']=='Pegasys Vendor Request Management', 1, 0)"
   ]
  },
  {
   "cell_type": "code",
   "execution_count": 17,
   "metadata": {
    "scrolled": true
   },
   "outputs": [
    {
     "data": {
      "text/plain": [
       "(83933, 21967)"
      ]
     },
     "execution_count": 17,
     "metadata": {},
     "output_type": "execute_result"
    }
   ],
   "source": [
    "# vectorize discription\n",
    "count_vect = CountVectorizer(stop_words='english')\n",
    "X_train_counts = count_vect.fit_transform(gear_df['short_description'])\n",
    "X_train_counts.shape"
   ]
  },
  {
   "cell_type": "code",
   "execution_count": 18,
   "metadata": {},
   "outputs": [
    {
     "data": {
      "text/plain": [
       "(83933, 21967)"
      ]
     },
     "execution_count": 18,
     "metadata": {},
     "output_type": "execute_result"
    }
   ],
   "source": [
    "# shape data\n",
    "tfidf_transformer = TfidfTransformer()\n",
    "X_train_tfidf = tfidf_transformer.fit_transform(X_train_counts)\n",
    "X_train_tfidf.shape\n"
   ]
  },
  {
   "cell_type": "code",
   "execution_count": 19,
   "metadata": {},
   "outputs": [
    {
     "name": "stdout",
     "output_type": "stream",
     "text": [
      "eoffer_emod 0.983784685403834\n",
      "vcss 0.9886099627083507\n",
      "any_connect_windows 0.9766003836393313\n",
      "easi 0.9895273611094564\n",
      "google_email 0.979173864868407\n",
      "pegasys_admin 0.9869777084102797\n",
      "fss_online 0.9906711305446011\n",
      "etams 0.987859364016537\n",
      "pegasys_data 0.9936020397221593\n",
      "aloha 0.9940190389953891\n",
      "fmis 0.9963780634553752\n",
      "apm 0.9977482039245589\n",
      "google_docs 0.9954606650542694\n",
      "google_chrome 0.9952581225501292\n",
      "ears 0.9955083221140671\n",
      "bookit 0.9966640058141613\n",
      "rocis 0.9979150036338508\n",
      "eviewer 0.9972954618564808\n",
      "google_calendar 0.9972597190616325\n",
      "geco 0.9981771174627382\n",
      "ors 0.9976528898049635\n",
      "google_sites 0.9976052327451658\n",
      "bi 0.9979864892235474\n",
      "google_hangout 0.9986536880607151\n",
      "google_groups 0.9986536880607151\n",
      "vitap 0.9988085735050576\n",
      "ocms 0.9992374870432369\n",
      "pegasys_vrm 0.9994519438123265\n"
     ]
    }
   ],
   "source": [
    "# The most frequently appearing apps in the data\n",
    "top_apps = ['eoffer_emod', 'vcss', 'any_connect_windows', 'easi', 'google_email', 'pegasys_admin',\n",
    "           'fss_online', 'etams', 'pegasys_data', 'aloha', 'fmis', 'apm', 'google_docs','google_chrome',\n",
    "           'ears', 'bookit', 'rocis','eviewer', 'google_calendar','geco', 'ors', 'google_sites', 'bi', \n",
    "           'google_hangout', 'google_groups', 'vitap', 'ocms', 'pegasys_vrm']\n",
    "\n",
    "for app in top_apps:\n",
    "    formated_category = gear_df[[app]]\n",
    "    text_clf = MultinomialNB().fit(X_train_counts,formated_category.values.ravel())\n",
    "    predicted = text_clf.predict(X_train_counts)\n",
    "    print(app, np.mean(predicted == formated_category.values.ravel()))\n",
    "    gear_df[app] = predicted\n"
   ]
  },
  {
   "cell_type": "code",
   "execution_count": 20,
   "metadata": {},
   "outputs": [],
   "source": [
    "gear_df.to_csv('category_predictions_top_28.csv')"
   ]
  }
 ],
 "metadata": {
  "kernelspec": {
   "display_name": "Python 3",
   "language": "python",
   "name": "python3"
  },
  "language_info": {
   "codemirror_mode": {
    "name": "ipython",
    "version": 3
   },
   "file_extension": ".py",
   "mimetype": "text/x-python",
   "name": "python",
   "nbconvert_exporter": "python",
   "pygments_lexer": "ipython3",
   "version": "3.6.5"
  }
 },
 "nbformat": 4,
 "nbformat_minor": 2
}
