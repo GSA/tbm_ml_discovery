{
 "cells": [
  {
   "cell_type": "markdown",
   "metadata": {},
   "source": [
    "# This script is trying to predict the top 5 categories is in GEAR"
   ]
  },
  {
   "cell_type": "markdown",
   "metadata": {},
   "source": [
    "Imports for libraries and data"
   ]
  },
  {
   "cell_type": "code",
   "execution_count": 34,
   "metadata": {},
   "outputs": [],
   "source": [
    "import numpy as np\n",
    "import pandas as pd\n",
    "from sklearn.feature_extraction.text import CountVectorizer\n",
    "from sklearn.feature_extraction.text import TfidfTransformer\n",
    "from sklearn.naive_bayes import MultinomialNB\n",
    "\n",
    "input_file = \"service_now_sample.csv\"\n",
    "# can do the yes to 1 in read_csv\n",
    "df = pd.read_csv(input_file, header = 0)"
   ]
  },
  {
   "cell_type": "markdown",
   "metadata": {},
   "source": [
    "Only need `short_description`, `U_Category_Match`,  `u_category_gear` to get the categories"
   ]
  },
  {
   "cell_type": "code",
   "execution_count": 37,
   "metadata": {},
   "outputs": [],
   "source": [
    "gear_df = df[['short_description', 'u_category_gear']]\n",
    "# remove nulls\n",
    "gear_df = gear_df.replace(np.nan, '', regex=True)\n",
    "\n",
    "gear_df['eOffer/eMod'] = np.where(gear_df['u_category_gear']=='eOffer/eMod - Electronic Offers/Electronic Modifications', 1, 0)\n",
    "gear_df['VCSS'] = np.where(gear_df['u_category_gear']=='VCSS - Vendor Customer Self Service', 1, 0)\n",
    "gear_df['AnyConnectWindows'] = np.where(gear_df['u_category_gear']=='Cisco AnyConnect Windows Client 3.1', 1, 0)\n",
    "gear_df['EASi'] = np.where(gear_df['u_category_gear']=='EASi - Electronic Acquisition System Integration', 1, 0)\n",
    "gear_df['google_email'] = np.where(gear_df['u_category_gear']=='Google Email', 1, 0)\n"
   ]
  },
  {
   "cell_type": "code",
   "execution_count": 41,
   "metadata": {
    "scrolled": true
   },
   "outputs": [
    {
     "data": {
      "text/plain": [
       "(83933, 21967)"
      ]
     },
     "execution_count": 41,
     "metadata": {},
     "output_type": "execute_result"
    }
   ],
   "source": [
    "# vectorize discription\n",
    "count_vect = CountVectorizer(stop_words='english')\n",
    "X_train_counts = count_vect.fit_transform(gear_df['short_description'])\n",
    "X_train_counts.shape"
   ]
  },
  {
   "cell_type": "code",
   "execution_count": 42,
   "metadata": {},
   "outputs": [
    {
     "data": {
      "text/plain": [
       "(83933, 21967)"
      ]
     },
     "execution_count": 42,
     "metadata": {},
     "output_type": "execute_result"
    }
   ],
   "source": [
    "# shape data\n",
    "tfidf_transformer = TfidfTransformer()\n",
    "X_train_tfidf = tfidf_transformer.fit_transform(X_train_counts)\n",
    "X_train_tfidf.shape\n"
   ]
  },
  {
   "cell_type": "code",
   "execution_count": 43,
   "metadata": {},
   "outputs": [
    {
     "name": "stdout",
     "output_type": "stream",
     "text": [
      "eOffer/eMod 0.983784685403834\n",
      "VCSS 0.9886099627083507\n",
      "AnyConnectWindows 0.9766003836393313\n",
      "EASi 0.9895273611094564\n",
      "google_email 0.979173864868407\n"
     ]
    }
   ],
   "source": [
    "# The most frequently appearing apps in the data\n",
    "top_apps = ['eOffer/eMod', 'VCSS', 'AnyConnectWindows', 'EASi', 'google_email']\n",
    "\n",
    "for app in top_apps:\n",
    "    formated_category = gear_df[[app]]\n",
    "    text_clf = MultinomialNB().fit(X_train_counts,formated_category.values.ravel())\n",
    "    predicted = text_clf.predict(X_train_counts)\n",
    "    print(app, np.mean(predicted == formated_category.values.ravel()))\n",
    "    gear_df[app] = predicted\n",
    "\n",
    "\n"
   ]
  },
  {
   "cell_type": "code",
   "execution_count": 44,
   "metadata": {},
   "outputs": [],
   "source": [
    "gear_df.to_csv('category_predictions.csv')"
   ]
  },
  {
   "cell_type": "code",
   "execution_count": null,
   "metadata": {},
   "outputs": [],
   "source": []
  }
 ],
 "metadata": {
  "kernelspec": {
   "display_name": "Python 3",
   "language": "python",
   "name": "python3"
  },
  "language_info": {
   "codemirror_mode": {
    "name": "ipython",
    "version": 3
   },
   "file_extension": ".py",
   "mimetype": "text/x-python",
   "name": "python",
   "nbconvert_exporter": "python",
   "pygments_lexer": "ipython3",
   "version": "3.6.5"
  }
 },
 "nbformat": 4,
 "nbformat_minor": 2
}
