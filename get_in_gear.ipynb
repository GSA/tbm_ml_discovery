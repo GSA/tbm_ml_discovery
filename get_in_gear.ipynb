{
 "cells": [
  {
   "cell_type": "markdown",
   "metadata": {},
   "source": [
    "# This script is just trying to determine if a item is in GEAR"
   ]
  },
  {
   "cell_type": "markdown",
   "metadata": {},
   "source": [
    "Imports for libraries and data"
   ]
  },
  {
   "cell_type": "code",
   "execution_count": 70,
   "metadata": {},
   "outputs": [],
   "source": [
    "import numpy as np\n",
    "import pandas as pd\n",
    "\n",
    "input_file = \"service_now_sample.csv\"\n",
    "# can do the yes to 1 in read_csv\n",
    "df = pd.read_csv(input_file, header = 0)\n",
    "original_headers = list(df.columns.values)"
   ]
  },
  {
   "cell_type": "markdown",
   "metadata": {},
   "source": [
    "Only need `short_description` and `U_Category_Match` as dependent variable "
   ]
  },
  {
   "cell_type": "code",
   "execution_count": 71,
   "metadata": {},
   "outputs": [],
   "source": [
    "gear_df = df[['short_description', 'U_Category_Match']]\n",
    "# remove nulls\n",
    "gear_df = gear_df.replace(np.nan, '', regex=True)\n",
    "# make the Yes no or empty string into a number\n",
    "gear_df.U_Category_Match.replace(('Yes', 'No', ''), (1, 0, 0), inplace=True)"
   ]
  },
  {
   "cell_type": "code",
   "execution_count": 79,
   "metadata": {},
   "outputs": [
    {
     "data": {
      "text/plain": [
       "(83933, 21967)"
      ]
     },
     "execution_count": 79,
     "metadata": {},
     "output_type": "execute_result"
    }
   ],
   "source": [
    "from sklearn.feature_extraction.text import CountVectorizer\n",
    "\n",
    "count_vect = CountVectorizer(stop_words='english')\n",
    "X_train_counts = count_vect.fit_transform(gear_df['short_description'])\n",
    "X_train_counts.shape\n"
   ]
  },
  {
   "cell_type": "code",
   "execution_count": 80,
   "metadata": {},
   "outputs": [
    {
     "name": "stdout",
     "output_type": "stream",
     "text": [
      "  (0, 4046)\t1\n",
      "  (0, 9975)\t1\n",
      "  (0, 11924)\t1\n",
      "  (1, 4046)\t1\n",
      "  (2, 12950)\t1\n",
      "  (2, 9116)\t1\n",
      "  (2, 15704)\t1\n",
      "  (2, 4046)\t1\n",
      "  (3, 9492)\t1\n",
      "  (3, 1896)\t1\n",
      "  (3, 12950)\t1\n",
      "  (3, 4046)\t1\n",
      "  (4, 4251)\t1\n",
      "  (4, 4046)\t1\n",
      "  (5, 10113)\t1\n",
      "  (5, 10506)\t1\n",
      "  (5, 19818)\t1\n",
      "  (5, 14918)\t1\n",
      "  (5, 12950)\t1\n",
      "  (5, 4046)\t1\n",
      "  (5, 11924)\t1\n",
      "  (6, 11584)\t1\n",
      "  (6, 5842)\t1\n",
      "  (6, 10113)\t1\n",
      "  (6, 10506)\t1\n",
      "  :\t:\n",
      "  (83923, 15024)\t1\n",
      "  (83923, 15164)\t1\n",
      "  (83923, 10993)\t1\n",
      "  (83923, 12946)\t1\n",
      "  (83924, 7840)\t1\n",
      "  (83924, 10993)\t1\n",
      "  (83924, 3703)\t1\n",
      "  (83925, 10993)\t1\n",
      "  (83925, 12939)\t1\n",
      "  (83925, 11924)\t1\n",
      "  (83926, 15164)\t1\n",
      "  (83926, 10993)\t1\n",
      "  (83926, 6514)\t1\n",
      "  (83926, 20484)\t1\n",
      "  (83927, 10993)\t1\n",
      "  (83927, 12939)\t1\n",
      "  (83928, 10993)\t1\n",
      "  (83928, 3703)\t1\n",
      "  (83929, 21126)\t1\n",
      "  (83929, 11924)\t1\n",
      "  (83930, 21126)\t1\n",
      "  (83930, 3703)\t1\n",
      "  (83931, 10993)\t1\n",
      "  (83931, 3711)\t1\n",
      "  (83932, 18265)\t1\n"
     ]
    }
   ],
   "source": [
    "print(X_train_counts)"
   ]
  },
  {
   "cell_type": "code",
   "execution_count": 81,
   "metadata": {},
   "outputs": [
    {
     "data": {
      "text/plain": [
       "(83933, 21967)"
      ]
     },
     "execution_count": 81,
     "metadata": {},
     "output_type": "execute_result"
    }
   ],
   "source": [
    "from sklearn.feature_extraction.text import TfidfTransformer\n",
    "\n",
    "tfidf_transformer = TfidfTransformer()\n",
    "X_train_tfidf = tfidf_transformer.fit_transform(X_train_counts)\n",
    "X_train_tfidf.shape\n"
   ]
  },
  {
   "cell_type": "code",
   "execution_count": 82,
   "metadata": {},
   "outputs": [],
   "source": [
    "from sklearn.naive_bayes import MultinomialNB\n",
    "formated_category = gear_df[['U_Category_Match']]\n",
    "text_clf = MultinomialNB().fit(X_train_counts,formated_category.values.ravel())"
   ]
  },
  {
   "cell_type": "code",
   "execution_count": 83,
   "metadata": {},
   "outputs": [
    {
     "data": {
      "text/plain": [
       "0.9167788593282737"
      ]
     },
     "execution_count": 83,
     "metadata": {},
     "output_type": "execute_result"
    }
   ],
   "source": [
    "# Performance of NB Classifier\n",
    "predicted = text_clf.predict(X_train_counts)\n",
    "np.mean(predicted == formated_category.values.ravel())"
   ]
  },
  {
   "cell_type": "code",
   "execution_count": 84,
   "metadata": {},
   "outputs": [],
   "source": [
    "gear_df['category match_pred'] = predicted"
   ]
  },
  {
   "cell_type": "code",
   "execution_count": 85,
   "metadata": {},
   "outputs": [],
   "source": [
    "gear_df.to_csv('gear_predictions.csv')"
   ]
  }
 ],
 "metadata": {
  "kernelspec": {
   "display_name": "Python 3",
   "language": "python",
   "name": "python3"
  },
  "language_info": {
   "codemirror_mode": {
    "name": "ipython",
    "version": 3
   },
   "file_extension": ".py",
   "mimetype": "text/x-python",
   "name": "python",
   "nbconvert_exporter": "python",
   "pygments_lexer": "ipython3",
   "version": "3.6.5"
  }
 },
 "nbformat": 4,
 "nbformat_minor": 2
}
